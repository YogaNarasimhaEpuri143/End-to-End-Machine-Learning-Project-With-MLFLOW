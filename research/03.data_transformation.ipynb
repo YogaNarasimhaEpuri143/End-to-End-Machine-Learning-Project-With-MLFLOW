{
 "cells": [
  {
   "cell_type": "code",
   "execution_count": 1,
   "metadata": {},
   "outputs": [],
   "source": [
    "import os\n",
    "os.chdir(\"./..\")"
   ]
  },
  {
   "cell_type": "code",
   "execution_count": 2,
   "metadata": {},
   "outputs": [
    {
     "data": {
      "text/plain": [
       "'c:\\\\Users\\\\YNARASIM\\\\Desktop\\\\End-to-End-Machine-Learning-Project-With-MLFLOW'"
      ]
     },
     "execution_count": 2,
     "metadata": {},
     "output_type": "execute_result"
    }
   ],
   "source": [
    "%pwd"
   ]
  },
  {
   "cell_type": "code",
   "execution_count": 3,
   "metadata": {},
   "outputs": [],
   "source": [
    "from dataclasses import dataclass\n",
    "from pathlib import Path\n",
    "\n",
    "@dataclass(frozen=True)\n",
    "class DataTransformationConfig:\n",
    "    root_dir: Path\n",
    "    data_path: Path"
   ]
  },
  {
   "cell_type": "code",
   "execution_count": 4,
   "metadata": {},
   "outputs": [],
   "source": [
    "# configuration manager\n",
    "from mlproject.constants import *\n",
    "from mlproject.utils.common import read_yaml, create_directories\n",
    "\n",
    "class ConfigurationManger:\n",
    "    def __init__(self, config_filepath=CONFIG_FILE_PATH, schema_filepath=SCHEMA_FILE_PATH, params_filepath=PARAMS_FILE_PATH):\n",
    "        self.config = read_yaml(config_filepath)\n",
    "        self.schema = read_yaml(schema_filepath)\n",
    "        self.params = read_yaml(params_filepath)\n",
    "\n",
    "        create_directories([self.config.artifacts_root])\n",
    "\n",
    "    def get_data_transformation_config(self) -> DataTransformationConfig:\n",
    "        config = self.config.data_transformation\n",
    "\n",
    "        data_transformation_config = DataTransformationConfig(\n",
    "            root_dir = config.root_dir,\n",
    "            data_path= config.data_path\n",
    "        )\n",
    "\n",
    "        return data_transformation_config"
   ]
  },
  {
   "cell_type": "code",
   "execution_count": 11,
   "metadata": {},
   "outputs": [],
   "source": [
    "from mlproject.utils.common import create_directories\n",
    "from sklearn.model_selection import train_test_split\n",
    "from mlproject import logger\n",
    "import pandas as pd\n",
    "\n",
    "class DataTransformation:\n",
    "\n",
    "    def __init__(self, config: DataTransformationConfig):\n",
    "        self.config = config\n",
    "        create_directories([self.config.root_dir])\n",
    "        logger.info(f\"Directory: {self.config.root_dir} created!\")\n",
    "\n",
    "    def transform_data(self):\n",
    "\n",
    "        try:\n",
    "            data = pd.read_csv(self.config.data_path)\n",
    "            \n",
    "            # split the data\n",
    "            train, test = train_test_split(data)\n",
    "\n",
    "            train.to_csv(os.path.join(self.config.root_dir, \"train.csv\"), index=False)\n",
    "            test.to_csv(os.path.join(self.config.root_dir, \"test.csv\"), index=False)\n",
    "\n",
    "            logger.info(\"Splitted the data into train and test and saved in files\")\n",
    "\n",
    "        except Exception as e:\n",
    "            raise e"
   ]
  },
  {
   "cell_type": "code",
   "execution_count": 12,
   "metadata": {},
   "outputs": [
    {
     "name": "stdout",
     "output_type": "stream",
     "text": [
      "[2023-08-09 16:19:11,444: INFO: common: yaml file: config\\config.yaml loaded successfully]\n",
      "[2023-08-09 16:19:11,453: INFO: common: yaml file: schema.yaml loaded successfully]\n",
      "[2023-08-09 16:19:11,461: INFO: common: yaml file: params.yaml loaded successfully]\n",
      "[2023-08-09 16:19:11,464: INFO: common: created directory at: artifacts]\n",
      "[2023-08-09 16:19:11,467: INFO: common: created directory at: artifacts/data_transformation]\n",
      "[2023-08-09 16:19:11,468: INFO: 148868741: Directory: artifacts/data_transformation created!]\n",
      "[2023-08-09 16:19:11,538: INFO: 148868741: Splitted the data into train and test and saved in files]\n"
     ]
    }
   ],
   "source": [
    "try:\n",
    "    config = ConfigurationManger()\n",
    "    data_transformation_config = config.get_data_transformation_config()\n",
    "    data_validation = DataTransformation(data_transformation_config)\n",
    "    data_validation.transform_data()\n",
    "except Exception as e:\n",
    "    raise e"
   ]
  }
 ],
 "metadata": {
  "kernelspec": {
   "display_name": "Python 3",
   "language": "python",
   "name": "python3"
  },
  "language_info": {
   "codemirror_mode": {
    "name": "ipython",
    "version": 3
   },
   "file_extension": ".py",
   "mimetype": "text/x-python",
   "name": "python",
   "nbconvert_exporter": "python",
   "pygments_lexer": "ipython3",
   "version": "3.10.3"
  },
  "orig_nbformat": 4
 },
 "nbformat": 4,
 "nbformat_minor": 2
}
